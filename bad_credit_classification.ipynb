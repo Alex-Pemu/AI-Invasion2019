{
 "cells": [
  {
   "cell_type": "markdown",
   "metadata": {},
   "source": [
    "## AI-INVASION DAY 5\n",
    "#### AN INTRODUCTION TO SUPERVISED CLASSIFICATION PROBLEM\n",
    " "
   ]
  },
  {
   "cell_type": "code",
   "execution_count": 1,
   "metadata": {},
   "outputs": [],
   "source": [
    "import pandas as pd\n",
    "import matplotlib.pyplot as plt\n",
    "import seaborn as sns\n",
    "import numpy as np\n",
    "\n",
    "%matplotlib inline"
   ]
  },
  {
   "cell_type": "markdown",
   "metadata": {},
   "source": [
    "## Load and prepare the data set\n",
    "\n",
    "As a first step, load the dataset. The code in the cell below loads the dataset and assigns human-readable names to the columns. Execute this code and examine the result. \n",
    "\n",
    "You should by now be very familiar with the next few sections as we have covered them in detail in previous labs."
   ]
  },
  {
   "cell_type": "code",
   "execution_count": 4,
   "metadata": {},
   "outputs": [
    {
     "data": {
      "text/html": [
       "<div>\n",
       "<style scoped>\n",
       "    .dataframe tbody tr th:only-of-type {\n",
       "        vertical-align: middle;\n",
       "    }\n",
       "\n",
       "    .dataframe tbody tr th {\n",
       "        vertical-align: top;\n",
       "    }\n",
       "\n",
       "    .dataframe thead th {\n",
       "        text-align: right;\n",
       "    }\n",
       "</style>\n",
       "<table border=\"1\" class=\"dataframe\">\n",
       "  <thead>\n",
       "    <tr style=\"text-align: right;\">\n",
       "      <th></th>\n",
       "      <th>0</th>\n",
       "      <th>1</th>\n",
       "      <th>2</th>\n",
       "      <th>3</th>\n",
       "    </tr>\n",
       "  </thead>\n",
       "  <tbody>\n",
       "    <tr>\n",
       "      <th>customer_id</th>\n",
       "      <td>1122334</td>\n",
       "      <td>6156361</td>\n",
       "      <td>2051359</td>\n",
       "      <td>8740590</td>\n",
       "    </tr>\n",
       "    <tr>\n",
       "      <th>checking_account_status</th>\n",
       "      <td>&lt; 0 DM</td>\n",
       "      <td>0 - 200 DM</td>\n",
       "      <td>none</td>\n",
       "      <td>&lt; 0 DM</td>\n",
       "    </tr>\n",
       "    <tr>\n",
       "      <th>loan_duration_mo</th>\n",
       "      <td>6</td>\n",
       "      <td>48</td>\n",
       "      <td>12</td>\n",
       "      <td>42</td>\n",
       "    </tr>\n",
       "    <tr>\n",
       "      <th>credit_history</th>\n",
       "      <td>critical account - other non-bank loans</td>\n",
       "      <td>current loans paid</td>\n",
       "      <td>critical account - other non-bank loans</td>\n",
       "      <td>current loans paid</td>\n",
       "    </tr>\n",
       "    <tr>\n",
       "      <th>purpose</th>\n",
       "      <td>radio/television</td>\n",
       "      <td>radio/television</td>\n",
       "      <td>education</td>\n",
       "      <td>furniture/equipment</td>\n",
       "    </tr>\n",
       "    <tr>\n",
       "      <th>loan_amount</th>\n",
       "      <td>1169</td>\n",
       "      <td>5951</td>\n",
       "      <td>2096</td>\n",
       "      <td>7882</td>\n",
       "    </tr>\n",
       "    <tr>\n",
       "      <th>savings_account_balance</th>\n",
       "      <td>unknown/none</td>\n",
       "      <td>&lt; 100 DM</td>\n",
       "      <td>&lt; 100 DM</td>\n",
       "      <td>&lt; 100 DM</td>\n",
       "    </tr>\n",
       "    <tr>\n",
       "      <th>time_employed_yrs</th>\n",
       "      <td>&gt;= 7 years</td>\n",
       "      <td>1 - 4 years</td>\n",
       "      <td>4 - 7 years</td>\n",
       "      <td>4 - 7 years</td>\n",
       "    </tr>\n",
       "    <tr>\n",
       "      <th>payment_pcnt_income</th>\n",
       "      <td>4</td>\n",
       "      <td>2</td>\n",
       "      <td>2</td>\n",
       "      <td>2</td>\n",
       "    </tr>\n",
       "    <tr>\n",
       "      <th>gender_status</th>\n",
       "      <td>male-single</td>\n",
       "      <td>female-divorced/separated/married</td>\n",
       "      <td>male-single</td>\n",
       "      <td>male-single</td>\n",
       "    </tr>\n",
       "    <tr>\n",
       "      <th>other_signators</th>\n",
       "      <td>none</td>\n",
       "      <td>none</td>\n",
       "      <td>none</td>\n",
       "      <td>guarantor</td>\n",
       "    </tr>\n",
       "    <tr>\n",
       "      <th>time_in_residence</th>\n",
       "      <td>4</td>\n",
       "      <td>2</td>\n",
       "      <td>3</td>\n",
       "      <td>4</td>\n",
       "    </tr>\n",
       "    <tr>\n",
       "      <th>property</th>\n",
       "      <td>real estate</td>\n",
       "      <td>real estate</td>\n",
       "      <td>real estate</td>\n",
       "      <td>building society savings/life insurance</td>\n",
       "    </tr>\n",
       "    <tr>\n",
       "      <th>age_yrs</th>\n",
       "      <td>67</td>\n",
       "      <td>22</td>\n",
       "      <td>49</td>\n",
       "      <td>45</td>\n",
       "    </tr>\n",
       "    <tr>\n",
       "      <th>other_credit_outstanding</th>\n",
       "      <td>none</td>\n",
       "      <td>none</td>\n",
       "      <td>none</td>\n",
       "      <td>none</td>\n",
       "    </tr>\n",
       "    <tr>\n",
       "      <th>home_ownership</th>\n",
       "      <td>own</td>\n",
       "      <td>own</td>\n",
       "      <td>own</td>\n",
       "      <td>for free</td>\n",
       "    </tr>\n",
       "    <tr>\n",
       "      <th>number_loans</th>\n",
       "      <td>2</td>\n",
       "      <td>1</td>\n",
       "      <td>1</td>\n",
       "      <td>1</td>\n",
       "    </tr>\n",
       "    <tr>\n",
       "      <th>job_category</th>\n",
       "      <td>skilled</td>\n",
       "      <td>skilled</td>\n",
       "      <td>unskilled-resident</td>\n",
       "      <td>skilled</td>\n",
       "    </tr>\n",
       "    <tr>\n",
       "      <th>dependents</th>\n",
       "      <td>1</td>\n",
       "      <td>1</td>\n",
       "      <td>2</td>\n",
       "      <td>2</td>\n",
       "    </tr>\n",
       "    <tr>\n",
       "      <th>telephone</th>\n",
       "      <td>yes</td>\n",
       "      <td>none</td>\n",
       "      <td>none</td>\n",
       "      <td>none</td>\n",
       "    </tr>\n",
       "    <tr>\n",
       "      <th>foreign_worker</th>\n",
       "      <td>yes</td>\n",
       "      <td>yes</td>\n",
       "      <td>yes</td>\n",
       "      <td>yes</td>\n",
       "    </tr>\n",
       "    <tr>\n",
       "      <th>bad_credit</th>\n",
       "      <td>0</td>\n",
       "      <td>1</td>\n",
       "      <td>0</td>\n",
       "      <td>0</td>\n",
       "    </tr>\n",
       "  </tbody>\n",
       "</table>\n",
       "</div>"
      ],
      "text/plain": [
       "                                                                0  \\\n",
       "customer_id                                               1122334   \n",
       "checking_account_status                                    < 0 DM   \n",
       "loan_duration_mo                                                6   \n",
       "credit_history            critical account - other non-bank loans   \n",
       "purpose                                          radio/television   \n",
       "loan_amount                                                  1169   \n",
       "savings_account_balance                              unknown/none   \n",
       "time_employed_yrs                                      >= 7 years   \n",
       "payment_pcnt_income                                             4   \n",
       "gender_status                                         male-single   \n",
       "other_signators                                              none   \n",
       "time_in_residence                                               4   \n",
       "property                                              real estate   \n",
       "age_yrs                                                        67   \n",
       "other_credit_outstanding                                     none   \n",
       "home_ownership                                                own   \n",
       "number_loans                                                    2   \n",
       "job_category                                              skilled   \n",
       "dependents                                                      1   \n",
       "telephone                                                     yes   \n",
       "foreign_worker                                                yes   \n",
       "bad_credit                                                      0   \n",
       "\n",
       "                                                          1  \\\n",
       "customer_id                                         6156361   \n",
       "checking_account_status                          0 - 200 DM   \n",
       "loan_duration_mo                                         48   \n",
       "credit_history                           current loans paid   \n",
       "purpose                                    radio/television   \n",
       "loan_amount                                            5951   \n",
       "savings_account_balance                            < 100 DM   \n",
       "time_employed_yrs                               1 - 4 years   \n",
       "payment_pcnt_income                                       2   \n",
       "gender_status             female-divorced/separated/married   \n",
       "other_signators                                        none   \n",
       "time_in_residence                                         2   \n",
       "property                                        real estate   \n",
       "age_yrs                                                  22   \n",
       "other_credit_outstanding                               none   \n",
       "home_ownership                                          own   \n",
       "number_loans                                              1   \n",
       "job_category                                        skilled   \n",
       "dependents                                                1   \n",
       "telephone                                              none   \n",
       "foreign_worker                                          yes   \n",
       "bad_credit                                                1   \n",
       "\n",
       "                                                                2  \\\n",
       "customer_id                                               2051359   \n",
       "checking_account_status                                      none   \n",
       "loan_duration_mo                                               12   \n",
       "credit_history            critical account - other non-bank loans   \n",
       "purpose                                                 education   \n",
       "loan_amount                                                  2096   \n",
       "savings_account_balance                                  < 100 DM   \n",
       "time_employed_yrs                                     4 - 7 years   \n",
       "payment_pcnt_income                                             2   \n",
       "gender_status                                         male-single   \n",
       "other_signators                                              none   \n",
       "time_in_residence                                               3   \n",
       "property                                              real estate   \n",
       "age_yrs                                                        49   \n",
       "other_credit_outstanding                                     none   \n",
       "home_ownership                                                own   \n",
       "number_loans                                                    1   \n",
       "job_category                                   unskilled-resident   \n",
       "dependents                                                      2   \n",
       "telephone                                                    none   \n",
       "foreign_worker                                                yes   \n",
       "bad_credit                                                      0   \n",
       "\n",
       "                                                                3  \n",
       "customer_id                                               8740590  \n",
       "checking_account_status                                    < 0 DM  \n",
       "loan_duration_mo                                               42  \n",
       "credit_history                                 current loans paid  \n",
       "purpose                                       furniture/equipment  \n",
       "loan_amount                                                  7882  \n",
       "savings_account_balance                                  < 100 DM  \n",
       "time_employed_yrs                                     4 - 7 years  \n",
       "payment_pcnt_income                                             2  \n",
       "gender_status                                         male-single  \n",
       "other_signators                                         guarantor  \n",
       "time_in_residence                                               4  \n",
       "property                  building society savings/life insurance  \n",
       "age_yrs                                                        45  \n",
       "other_credit_outstanding                                     none  \n",
       "home_ownership                                           for free  \n",
       "number_loans                                                    1  \n",
       "job_category                                              skilled  \n",
       "dependents                                                      2  \n",
       "telephone                                                    none  \n",
       "foreign_worker                                                yes  \n",
       "bad_credit                                                      0  "
      ]
     },
     "execution_count": 4,
     "metadata": {},
     "output_type": "execute_result"
    }
   ],
   "source": [
    "credit = pd.read_csv('German_Credit_Preped.csv')\n",
    "credit.head(4).transpose()"
   ]
  },
  {
   "cell_type": "markdown",
   "metadata": {},
   "source": [
    "There are 22 columns, 1 customer identifier column, 20 features, plus a label column. These features represent information a bank might have on its customers. "
   ]
  },
  {
   "cell_type": "markdown",
   "metadata": {},
   "source": [
    "There is one other aspect of this data set which you should be aware of. The label has significant **class imbalance**. Class imbalance means that there are  unequal numbers of cases for the categories of the label. \n",
    "\n",
    "To examine the class imbalance in these data, execute the code in the cell below. "
   ]
  },
  {
   "cell_type": "code",
   "execution_count": 5,
   "metadata": {},
   "outputs": [
    {
     "name": "stdout",
     "output_type": "stream",
     "text": [
      "0    700\n",
      "1    300\n",
      "Name: bad_credit, dtype: int64\n"
     ]
    }
   ],
   "source": [
    "credit_counts = credit['bad_credit'].value_counts()\n",
    "print(credit_counts)"
   ]
  },
  {
   "cell_type": "markdown",
   "metadata": {},
   "source": [
    "Notice that only 30% of the cases have bad credit. This is not surprising, since a bank would typically retain customers with good credit. However, this imbalance will bias the training of any model. "
   ]
  },
  {
   "cell_type": "markdown",
   "metadata": {},
   "source": [
    "## Prepare data"
   ]
  },
  {
   "cell_type": "code",
   "execution_count": 6,
   "metadata": {},
   "outputs": [
    {
     "data": {
      "text/html": [
       "<div>\n",
       "<style scoped>\n",
       "    .dataframe tbody tr th:only-of-type {\n",
       "        vertical-align: middle;\n",
       "    }\n",
       "\n",
       "    .dataframe tbody tr th {\n",
       "        vertical-align: top;\n",
       "    }\n",
       "\n",
       "    .dataframe thead th {\n",
       "        text-align: right;\n",
       "    }\n",
       "</style>\n",
       "<table border=\"1\" class=\"dataframe\">\n",
       "  <thead>\n",
       "    <tr style=\"text-align: right;\">\n",
       "      <th></th>\n",
       "      <th>customer_id</th>\n",
       "      <th>checking_account_status</th>\n",
       "      <th>loan_duration_mo</th>\n",
       "      <th>credit_history</th>\n",
       "      <th>purpose</th>\n",
       "      <th>loan_amount</th>\n",
       "      <th>savings_account_balance</th>\n",
       "      <th>time_employed_yrs</th>\n",
       "      <th>payment_pcnt_income</th>\n",
       "      <th>gender_status</th>\n",
       "      <th>...</th>\n",
       "      <th>property</th>\n",
       "      <th>age_yrs</th>\n",
       "      <th>other_credit_outstanding</th>\n",
       "      <th>home_ownership</th>\n",
       "      <th>number_loans</th>\n",
       "      <th>job_category</th>\n",
       "      <th>dependents</th>\n",
       "      <th>telephone</th>\n",
       "      <th>foreign_worker</th>\n",
       "      <th>bad_credit</th>\n",
       "    </tr>\n",
       "  </thead>\n",
       "  <tbody>\n",
       "    <tr>\n",
       "      <th>0</th>\n",
       "      <td>1122334</td>\n",
       "      <td>&lt; 0 DM</td>\n",
       "      <td>6</td>\n",
       "      <td>critical account - other non-bank loans</td>\n",
       "      <td>radio/television</td>\n",
       "      <td>1169</td>\n",
       "      <td>unknown/none</td>\n",
       "      <td>&gt;= 7 years</td>\n",
       "      <td>4</td>\n",
       "      <td>male-single</td>\n",
       "      <td>...</td>\n",
       "      <td>real estate</td>\n",
       "      <td>67</td>\n",
       "      <td>none</td>\n",
       "      <td>own</td>\n",
       "      <td>2</td>\n",
       "      <td>skilled</td>\n",
       "      <td>1</td>\n",
       "      <td>yes</td>\n",
       "      <td>yes</td>\n",
       "      <td>0</td>\n",
       "    </tr>\n",
       "  </tbody>\n",
       "</table>\n",
       "<p>1 rows × 22 columns</p>\n",
       "</div>"
      ],
      "text/plain": [
       "   customer_id checking_account_status  loan_duration_mo  \\\n",
       "0      1122334                  < 0 DM                 6   \n",
       "\n",
       "                            credit_history           purpose  loan_amount  \\\n",
       "0  critical account - other non-bank loans  radio/television         1169   \n",
       "\n",
       "  savings_account_balance time_employed_yrs  payment_pcnt_income  \\\n",
       "0            unknown/none        >= 7 years                    4   \n",
       "\n",
       "  gender_status    ...         property  age_yrs other_credit_outstanding  \\\n",
       "0   male-single    ...      real estate       67                     none   \n",
       "\n",
       "   home_ownership number_loans job_category  dependents telephone  \\\n",
       "0             own            2      skilled           1       yes   \n",
       "\n",
       "   foreign_worker bad_credit  \n",
       "0             yes          0  \n",
       "\n",
       "[1 rows x 22 columns]"
      ]
     },
     "execution_count": 6,
     "metadata": {},
     "output_type": "execute_result"
    }
   ],
   "source": [
    "credit.head(1)"
   ]
  },
  {
   "cell_type": "code",
   "execution_count": 7,
   "metadata": {},
   "outputs": [],
   "source": [
    "#separate labels from data\n",
    "y_target = credit['bad_credit']\n",
    "credit_new = credit.drop(['bad_credit', \"customer_id\"], axis=1)"
   ]
  },
  {
   "cell_type": "code",
   "execution_count": 8,
   "metadata": {},
   "outputs": [
    {
     "data": {
      "text/plain": [
       "(1000, 20)"
      ]
     },
     "execution_count": 8,
     "metadata": {},
     "output_type": "execute_result"
    }
   ],
   "source": [
    "credit_new.shape"
   ]
  },
  {
   "cell_type": "markdown",
   "metadata": {},
   "source": [
    "### ENCODE CATEGORICAL FEATURES\n"
   ]
  },
  {
   "cell_type": "code",
   "execution_count": 21,
   "metadata": {},
   "outputs": [
    {
     "data": {
      "text/html": [
       "<div>\n",
       "<style scoped>\n",
       "    .dataframe tbody tr th:only-of-type {\n",
       "        vertical-align: middle;\n",
       "    }\n",
       "\n",
       "    .dataframe tbody tr th {\n",
       "        vertical-align: top;\n",
       "    }\n",
       "\n",
       "    .dataframe thead th {\n",
       "        text-align: right;\n",
       "    }\n",
       "</style>\n",
       "<table border=\"1\" class=\"dataframe\">\n",
       "  <thead>\n",
       "    <tr style=\"text-align: right;\">\n",
       "      <th></th>\n",
       "      <th>checking_account_status</th>\n",
       "      <th>loan_duration_mo</th>\n",
       "      <th>credit_history</th>\n",
       "      <th>purpose</th>\n",
       "      <th>loan_amount</th>\n",
       "      <th>savings_account_balance</th>\n",
       "      <th>time_employed_yrs</th>\n",
       "      <th>payment_pcnt_income</th>\n",
       "      <th>gender_status</th>\n",
       "      <th>other_signators</th>\n",
       "      <th>time_in_residence</th>\n",
       "      <th>property</th>\n",
       "      <th>age_yrs</th>\n",
       "      <th>other_credit_outstanding</th>\n",
       "      <th>home_ownership</th>\n",
       "      <th>number_loans</th>\n",
       "      <th>job_category</th>\n",
       "      <th>dependents</th>\n",
       "      <th>telephone</th>\n",
       "      <th>foreign_worker</th>\n",
       "    </tr>\n",
       "  </thead>\n",
       "  <tbody>\n",
       "    <tr>\n",
       "      <th>0</th>\n",
       "      <td>&lt; 0 DM</td>\n",
       "      <td>6</td>\n",
       "      <td>critical account - other non-bank loans</td>\n",
       "      <td>radio/television</td>\n",
       "      <td>1169</td>\n",
       "      <td>unknown/none</td>\n",
       "      <td>&gt;= 7 years</td>\n",
       "      <td>4</td>\n",
       "      <td>male-single</td>\n",
       "      <td>none</td>\n",
       "      <td>4</td>\n",
       "      <td>real estate</td>\n",
       "      <td>67</td>\n",
       "      <td>none</td>\n",
       "      <td>own</td>\n",
       "      <td>2</td>\n",
       "      <td>skilled</td>\n",
       "      <td>1</td>\n",
       "      <td>yes</td>\n",
       "      <td>yes</td>\n",
       "    </tr>\n",
       "    <tr>\n",
       "      <th>1</th>\n",
       "      <td>0 - 200 DM</td>\n",
       "      <td>48</td>\n",
       "      <td>current loans paid</td>\n",
       "      <td>radio/television</td>\n",
       "      <td>5951</td>\n",
       "      <td>&lt; 100 DM</td>\n",
       "      <td>1 - 4 years</td>\n",
       "      <td>2</td>\n",
       "      <td>female-divorced/separated/married</td>\n",
       "      <td>none</td>\n",
       "      <td>2</td>\n",
       "      <td>real estate</td>\n",
       "      <td>22</td>\n",
       "      <td>none</td>\n",
       "      <td>own</td>\n",
       "      <td>1</td>\n",
       "      <td>skilled</td>\n",
       "      <td>1</td>\n",
       "      <td>none</td>\n",
       "      <td>yes</td>\n",
       "    </tr>\n",
       "  </tbody>\n",
       "</table>\n",
       "</div>"
      ],
      "text/plain": [
       "  checking_account_status  loan_duration_mo  \\\n",
       "0                  < 0 DM                 6   \n",
       "1              0 - 200 DM                48   \n",
       "\n",
       "                            credit_history           purpose  loan_amount  \\\n",
       "0  critical account - other non-bank loans  radio/television         1169   \n",
       "1                       current loans paid  radio/television         5951   \n",
       "\n",
       "  savings_account_balance time_employed_yrs  payment_pcnt_income  \\\n",
       "0            unknown/none        >= 7 years                    4   \n",
       "1                < 100 DM       1 - 4 years                    2   \n",
       "\n",
       "                       gender_status other_signators  time_in_residence  \\\n",
       "0                        male-single            none                  4   \n",
       "1  female-divorced/separated/married            none                  2   \n",
       "\n",
       "      property  age_yrs other_credit_outstanding home_ownership  number_loans  \\\n",
       "0  real estate       67                     none            own             2   \n",
       "1  real estate       22                     none            own             1   \n",
       "\n",
       "  job_category  dependents telephone foreign_worker  \n",
       "0      skilled           1       yes            yes  \n",
       "1      skilled           1      none            yes  "
      ]
     },
     "execution_count": 21,
     "metadata": {},
     "output_type": "execute_result"
    }
   ],
   "source": [
    "credit_new.head(2)"
   ]
  },
  {
   "cell_type": "code",
   "execution_count": 22,
   "metadata": {},
   "outputs": [
    {
     "data": {
      "text/plain": [
       "checking_account_status     object\n",
       "loan_duration_mo             int64\n",
       "credit_history              object\n",
       "purpose                     object\n",
       "loan_amount                  int64\n",
       "savings_account_balance     object\n",
       "time_employed_yrs           object\n",
       "payment_pcnt_income          int64\n",
       "gender_status               object\n",
       "other_signators             object\n",
       "time_in_residence            int64\n",
       "property                    object\n",
       "age_yrs                      int64\n",
       "other_credit_outstanding    object\n",
       "home_ownership              object\n",
       "number_loans                 int64\n",
       "job_category                object\n",
       "dependents                   int64\n",
       "telephone                   object\n",
       "foreign_worker              object\n",
       "dtype: object"
      ]
     },
     "execution_count": 22,
     "metadata": {},
     "output_type": "execute_result"
    }
   ],
   "source": [
    "credit_new.dtypes"
   ]
  },
  {
   "cell_type": "code",
   "execution_count": 23,
   "metadata": {},
   "outputs": [],
   "source": [
    "cat_col = []\n",
    "\n",
    "cat_index = list(credit_new.dtypes.index)\n",
    "\n",
    "for i, cat in enumerate(credit_new.dtypes):\n",
    "    if cat == 'object':\n",
    "        cat_col.append(cat_index[i])\n"
   ]
  },
  {
   "cell_type": "code",
   "execution_count": 26,
   "metadata": {
    "scrolled": false
   },
   "outputs": [
    {
     "name": "stdout",
     "output_type": "stream",
     "text": [
      "Unique values for checking_account_status\n",
      "none                             394\n",
      "< 0 DM                           274\n",
      "0 - 200 DM                       269\n",
      "> 200 DM or salary assignment     63\n",
      "Name: checking_account_status, dtype: int64\n",
      "--------------------------\n",
      "\n",
      "\n",
      "Unique values for credit_history\n",
      "current loans paid                         530\n",
      "critical account - other non-bank loans    293\n",
      "past payment delays                         88\n",
      "all loans at bank paid                      49\n",
      "no credit - paid                            40\n",
      "Name: credit_history, dtype: int64\n",
      "--------------------------\n",
      "\n",
      "\n",
      "Unique values for purpose\n",
      "radio/television       280\n",
      "car (new)              234\n",
      "furniture/equipment    181\n",
      "car (used)             103\n",
      "business                97\n",
      "education               50\n",
      "repairs                 22\n",
      "other                   12\n",
      "domestic appliances     12\n",
      "retraining               9\n",
      "Name: purpose, dtype: int64\n",
      "--------------------------\n",
      "\n",
      "\n",
      "Unique values for savings_account_balance\n",
      "< 100 DM         603\n",
      "unknown/none     183\n",
      "100 - 500 DM     103\n",
      "500 - 1000 DM     63\n",
      ">= 1000 DM        48\n",
      "Name: savings_account_balance, dtype: int64\n",
      "--------------------------\n",
      "\n",
      "\n",
      "Unique values for time_employed_yrs\n",
      "1 - 4 years    339\n",
      ">= 7 years     253\n",
      "4 - 7 years    174\n",
      "< 1 year       172\n",
      "unemployed      62\n",
      "Name: time_employed_yrs, dtype: int64\n",
      "--------------------------\n",
      "\n",
      "\n",
      "Unique values for gender_status\n",
      "male-single                          548\n",
      "female-divorced/separated/married    310\n",
      "male-married/widowed                  92\n",
      "male-divorced/separated               50\n",
      "Name: gender_status, dtype: int64\n",
      "--------------------------\n",
      "\n",
      "\n",
      "Unique values for other_signators\n",
      "none            907\n",
      "guarantor        52\n",
      "co-applicant     41\n",
      "Name: other_signators, dtype: int64\n",
      "--------------------------\n",
      "\n",
      "\n",
      "Unique values for property\n",
      "car or other                               332\n",
      "real estate                                282\n",
      "building society savings/life insurance    232\n",
      "unknown-none                               154\n",
      "Name: property, dtype: int64\n",
      "--------------------------\n",
      "\n",
      "\n",
      "Unique values for other_credit_outstanding\n",
      "none      814\n",
      "bank      139\n",
      "stores     47\n",
      "Name: other_credit_outstanding, dtype: int64\n",
      "--------------------------\n",
      "\n",
      "\n",
      "Unique values for home_ownership\n",
      "own         713\n",
      "rent        179\n",
      "for free    108\n",
      "Name: home_ownership, dtype: int64\n",
      "--------------------------\n",
      "\n",
      "\n",
      "Unique values for job_category\n",
      "skilled                              630\n",
      "unskilled-resident                   200\n",
      "highly skilled                       148\n",
      "unemployed-unskilled-non-resident     22\n",
      "Name: job_category, dtype: int64\n",
      "--------------------------\n",
      "\n",
      "\n",
      "Unique values for telephone\n",
      "none    596\n",
      "yes     404\n",
      "Name: telephone, dtype: int64\n",
      "--------------------------\n",
      "\n",
      "\n",
      "Unique values for foreign_worker\n",
      "yes    963\n",
      "no      37\n",
      "Name: foreign_worker, dtype: int64\n",
      "--------------------------\n",
      "\n",
      "\n"
     ]
    }
   ],
   "source": [
    "# Print the value count \n",
    "\n",
    "for cat in cat_col:\n",
    "    print(\"Unique values for\", cat)\n",
    "    count = credit[cat].value_counts()\n",
    "    print(count)\n",
    "    print(\"--------------------------\")\n",
    "    print(\"\\n\")"
   ]
  },
  {
   "cell_type": "code",
   "execution_count": 27,
   "metadata": {},
   "outputs": [
    {
     "data": {
      "text/html": [
       "<div>\n",
       "<style scoped>\n",
       "    .dataframe tbody tr th:only-of-type {\n",
       "        vertical-align: middle;\n",
       "    }\n",
       "\n",
       "    .dataframe tbody tr th {\n",
       "        vertical-align: top;\n",
       "    }\n",
       "\n",
       "    .dataframe thead th {\n",
       "        text-align: right;\n",
       "    }\n",
       "</style>\n",
       "<table border=\"1\" class=\"dataframe\">\n",
       "  <thead>\n",
       "    <tr style=\"text-align: right;\">\n",
       "      <th></th>\n",
       "      <th>loan_duration_mo</th>\n",
       "      <th>loan_amount</th>\n",
       "      <th>payment_pcnt_income</th>\n",
       "      <th>time_in_residence</th>\n",
       "      <th>age_yrs</th>\n",
       "      <th>number_loans</th>\n",
       "      <th>dependents</th>\n",
       "    </tr>\n",
       "  </thead>\n",
       "  <tbody>\n",
       "    <tr>\n",
       "      <th>count</th>\n",
       "      <td>1000.000000</td>\n",
       "      <td>1000.000000</td>\n",
       "      <td>1000.000000</td>\n",
       "      <td>1000.000000</td>\n",
       "      <td>1000.000000</td>\n",
       "      <td>1000.000000</td>\n",
       "      <td>1000.000000</td>\n",
       "    </tr>\n",
       "    <tr>\n",
       "      <th>mean</th>\n",
       "      <td>20.903000</td>\n",
       "      <td>3271.258000</td>\n",
       "      <td>2.973000</td>\n",
       "      <td>2.845000</td>\n",
       "      <td>35.546000</td>\n",
       "      <td>1.407000</td>\n",
       "      <td>1.155000</td>\n",
       "    </tr>\n",
       "    <tr>\n",
       "      <th>std</th>\n",
       "      <td>12.058814</td>\n",
       "      <td>2822.736876</td>\n",
       "      <td>1.118715</td>\n",
       "      <td>1.103718</td>\n",
       "      <td>11.375469</td>\n",
       "      <td>0.577654</td>\n",
       "      <td>0.362086</td>\n",
       "    </tr>\n",
       "    <tr>\n",
       "      <th>min</th>\n",
       "      <td>4.000000</td>\n",
       "      <td>250.000000</td>\n",
       "      <td>1.000000</td>\n",
       "      <td>1.000000</td>\n",
       "      <td>19.000000</td>\n",
       "      <td>1.000000</td>\n",
       "      <td>1.000000</td>\n",
       "    </tr>\n",
       "    <tr>\n",
       "      <th>25%</th>\n",
       "      <td>12.000000</td>\n",
       "      <td>1365.500000</td>\n",
       "      <td>2.000000</td>\n",
       "      <td>2.000000</td>\n",
       "      <td>27.000000</td>\n",
       "      <td>1.000000</td>\n",
       "      <td>1.000000</td>\n",
       "    </tr>\n",
       "    <tr>\n",
       "      <th>50%</th>\n",
       "      <td>18.000000</td>\n",
       "      <td>2319.500000</td>\n",
       "      <td>3.000000</td>\n",
       "      <td>3.000000</td>\n",
       "      <td>33.000000</td>\n",
       "      <td>1.000000</td>\n",
       "      <td>1.000000</td>\n",
       "    </tr>\n",
       "    <tr>\n",
       "      <th>75%</th>\n",
       "      <td>24.000000</td>\n",
       "      <td>3972.250000</td>\n",
       "      <td>4.000000</td>\n",
       "      <td>4.000000</td>\n",
       "      <td>42.000000</td>\n",
       "      <td>2.000000</td>\n",
       "      <td>1.000000</td>\n",
       "    </tr>\n",
       "    <tr>\n",
       "      <th>max</th>\n",
       "      <td>72.000000</td>\n",
       "      <td>18424.000000</td>\n",
       "      <td>4.000000</td>\n",
       "      <td>4.000000</td>\n",
       "      <td>75.000000</td>\n",
       "      <td>4.000000</td>\n",
       "      <td>2.000000</td>\n",
       "    </tr>\n",
       "  </tbody>\n",
       "</table>\n",
       "</div>"
      ],
      "text/plain": [
       "       loan_duration_mo   loan_amount  payment_pcnt_income  time_in_residence  \\\n",
       "count       1000.000000   1000.000000          1000.000000        1000.000000   \n",
       "mean          20.903000   3271.258000             2.973000           2.845000   \n",
       "std           12.058814   2822.736876             1.118715           1.103718   \n",
       "min            4.000000    250.000000             1.000000           1.000000   \n",
       "25%           12.000000   1365.500000             2.000000           2.000000   \n",
       "50%           18.000000   2319.500000             3.000000           3.000000   \n",
       "75%           24.000000   3972.250000             4.000000           4.000000   \n",
       "max           72.000000  18424.000000             4.000000           4.000000   \n",
       "\n",
       "           age_yrs  number_loans   dependents  \n",
       "count  1000.000000   1000.000000  1000.000000  \n",
       "mean     35.546000      1.407000     1.155000  \n",
       "std      11.375469      0.577654     0.362086  \n",
       "min      19.000000      1.000000     1.000000  \n",
       "25%      27.000000      1.000000     1.000000  \n",
       "50%      33.000000      1.000000     1.000000  \n",
       "75%      42.000000      2.000000     1.000000  \n",
       "max      75.000000      4.000000     2.000000  "
      ]
     },
     "execution_count": 27,
     "metadata": {},
     "output_type": "execute_result"
    }
   ],
   "source": [
    "credit_new.describe()"
   ]
  },
  {
   "cell_type": "code",
   "execution_count": 32,
   "metadata": {},
   "outputs": [
    {
     "data": {
      "text/plain": [
       "<matplotlib.axes._subplots.AxesSubplot at 0x1d1d70ff588>"
      ]
     },
     "execution_count": 32,
     "metadata": {},
     "output_type": "execute_result"
    },
    {
     "data": {
      "image/png": "[encoded data removed]",
      "text/plain": [
       "<Figure size 432x288 with 1 Axes>"
      ]
     },
     "metadata": {
      "needs_background": "light"
     },
     "output_type": "display_data"
    }
   ],
   "source": [
    "credit_new['payment_pcnt_income'].plot.hist(bins=4)"
   ]
  },
  {
   "cell_type": "markdown",
   "metadata": {},
   "source": [
    "#### CONVERT CATEGORICAL FEATURES TO NUMERICAL FEATURES"
   ]
  },
  {
   "cell_type": "code",
   "execution_count": 33,
   "metadata": {},
   "outputs": [
    {
     "name": "stdout",
     "output_type": "stream",
     "text": [
      "Shape of data before encoding is (1000, 20)\n"
     ]
    }
   ],
   "source": [
    "print(\"Shape of data before encoding is\", credit_new.shape)"
   ]
  },
  {
   "cell_type": "code",
   "execution_count": 34,
   "metadata": {},
   "outputs": [
    {
     "name": "stdout",
     "output_type": "stream",
     "text": [
      "New shape of data after encoding is (1000, 61)\n"
     ]
    }
   ],
   "source": [
    "credit_new = pd.get_dummies(credit_new)\n",
    "print(\"New shape of data after encoding is\", credit_new.shape)"
   ]
  },
  {
   "cell_type": "code",
   "execution_count": 35,
   "metadata": {},
   "outputs": [
    {
     "data": {
      "text/html": [
       "<div>\n",
       "<style scoped>\n",
       "    .dataframe tbody tr th:only-of-type {\n",
       "        vertical-align: middle;\n",
       "    }\n",
       "\n",
       "    .dataframe tbody tr th {\n",
       "        vertical-align: top;\n",
       "    }\n",
       "\n",
       "    .dataframe thead th {\n",
       "        text-align: right;\n",
       "    }\n",
       "</style>\n",
       "<table border=\"1\" class=\"dataframe\">\n",
       "  <thead>\n",
       "    <tr style=\"text-align: right;\">\n",
       "      <th></th>\n",
       "      <th>loan_duration_mo</th>\n",
       "      <th>loan_amount</th>\n",
       "      <th>payment_pcnt_income</th>\n",
       "      <th>time_in_residence</th>\n",
       "      <th>age_yrs</th>\n",
       "      <th>number_loans</th>\n",
       "      <th>dependents</th>\n",
       "      <th>checking_account_status_0 - 200 DM</th>\n",
       "      <th>checking_account_status_&lt; 0 DM</th>\n",
       "      <th>checking_account_status_&gt; 200 DM or salary assignment</th>\n",
       "      <th>...</th>\n",
       "      <th>home_ownership_own</th>\n",
       "      <th>home_ownership_rent</th>\n",
       "      <th>job_category_highly skilled</th>\n",
       "      <th>job_category_skilled</th>\n",
       "      <th>job_category_unemployed-unskilled-non-resident</th>\n",
       "      <th>job_category_unskilled-resident</th>\n",
       "      <th>telephone_none</th>\n",
       "      <th>telephone_yes</th>\n",
       "      <th>foreign_worker_no</th>\n",
       "      <th>foreign_worker_yes</th>\n",
       "    </tr>\n",
       "  </thead>\n",
       "  <tbody>\n",
       "    <tr>\n",
       "      <th>0</th>\n",
       "      <td>6</td>\n",
       "      <td>1169</td>\n",
       "      <td>4</td>\n",
       "      <td>4</td>\n",
       "      <td>67</td>\n",
       "      <td>2</td>\n",
       "      <td>1</td>\n",
       "      <td>0</td>\n",
       "      <td>1</td>\n",
       "      <td>0</td>\n",
       "      <td>...</td>\n",
       "      <td>1</td>\n",
       "      <td>0</td>\n",
       "      <td>0</td>\n",
       "      <td>1</td>\n",
       "      <td>0</td>\n",
       "      <td>0</td>\n",
       "      <td>0</td>\n",
       "      <td>1</td>\n",
       "      <td>0</td>\n",
       "      <td>1</td>\n",
       "    </tr>\n",
       "    <tr>\n",
       "      <th>1</th>\n",
       "      <td>48</td>\n",
       "      <td>5951</td>\n",
       "      <td>2</td>\n",
       "      <td>2</td>\n",
       "      <td>22</td>\n",
       "      <td>1</td>\n",
       "      <td>1</td>\n",
       "      <td>1</td>\n",
       "      <td>0</td>\n",
       "      <td>0</td>\n",
       "      <td>...</td>\n",
       "      <td>1</td>\n",
       "      <td>0</td>\n",
       "      <td>0</td>\n",
       "      <td>1</td>\n",
       "      <td>0</td>\n",
       "      <td>0</td>\n",
       "      <td>1</td>\n",
       "      <td>0</td>\n",
       "      <td>0</td>\n",
       "      <td>1</td>\n",
       "    </tr>\n",
       "    <tr>\n",
       "      <th>2</th>\n",
       "      <td>12</td>\n",
       "      <td>2096</td>\n",
       "      <td>2</td>\n",
       "      <td>3</td>\n",
       "      <td>49</td>\n",
       "      <td>1</td>\n",
       "      <td>2</td>\n",
       "      <td>0</td>\n",
       "      <td>0</td>\n",
       "      <td>0</td>\n",
       "      <td>...</td>\n",
       "      <td>1</td>\n",
       "      <td>0</td>\n",
       "      <td>0</td>\n",
       "      <td>0</td>\n",
       "      <td>0</td>\n",
       "      <td>1</td>\n",
       "      <td>1</td>\n",
       "      <td>0</td>\n",
       "      <td>0</td>\n",
       "      <td>1</td>\n",
       "    </tr>\n",
       "    <tr>\n",
       "      <th>3</th>\n",
       "      <td>42</td>\n",
       "      <td>7882</td>\n",
       "      <td>2</td>\n",
       "      <td>4</td>\n",
       "      <td>45</td>\n",
       "      <td>1</td>\n",
       "      <td>2</td>\n",
       "      <td>0</td>\n",
       "      <td>1</td>\n",
       "      <td>0</td>\n",
       "      <td>...</td>\n",
       "      <td>0</td>\n",
       "      <td>0</td>\n",
       "      <td>0</td>\n",
       "      <td>1</td>\n",
       "      <td>0</td>\n",
       "      <td>0</td>\n",
       "      <td>1</td>\n",
       "      <td>0</td>\n",
       "      <td>0</td>\n",
       "      <td>1</td>\n",
       "    </tr>\n",
       "    <tr>\n",
       "      <th>4</th>\n",
       "      <td>24</td>\n",
       "      <td>4870</td>\n",
       "      <td>3</td>\n",
       "      <td>4</td>\n",
       "      <td>53</td>\n",
       "      <td>2</td>\n",
       "      <td>2</td>\n",
       "      <td>0</td>\n",
       "      <td>1</td>\n",
       "      <td>0</td>\n",
       "      <td>...</td>\n",
       "      <td>0</td>\n",
       "      <td>0</td>\n",
       "      <td>0</td>\n",
       "      <td>1</td>\n",
       "      <td>0</td>\n",
       "      <td>0</td>\n",
       "      <td>1</td>\n",
       "      <td>0</td>\n",
       "      <td>0</td>\n",
       "      <td>1</td>\n",
       "    </tr>\n",
       "  </tbody>\n",
       "</table>\n",
       "<p>5 rows × 61 columns</p>\n",
       "</div>"
      ],
      "text/plain": [
       "   loan_duration_mo  loan_amount  payment_pcnt_income  time_in_residence  \\\n",
       "0                 6         1169                    4                  4   \n",
       "1                48         5951                    2                  2   \n",
       "2                12         2096                    2                  3   \n",
       "3                42         7882                    2                  4   \n",
       "4                24         4870                    3                  4   \n",
       "\n",
       "   age_yrs  number_loans  dependents  checking_account_status_0 - 200 DM  \\\n",
       "0       67             2           1                                   0   \n",
       "1       22             1           1                                   1   \n",
       "2       49             1           2                                   0   \n",
       "3       45             1           2                                   0   \n",
       "4       53             2           2                                   0   \n",
       "\n",
       "   checking_account_status_< 0 DM  \\\n",
       "0                               1   \n",
       "1                               0   \n",
       "2                               0   \n",
       "3                               1   \n",
       "4                               1   \n",
       "\n",
       "   checking_account_status_> 200 DM or salary assignment         ...          \\\n",
       "0                                                  0             ...           \n",
       "1                                                  0             ...           \n",
       "2                                                  0             ...           \n",
       "3                                                  0             ...           \n",
       "4                                                  0             ...           \n",
       "\n",
       "   home_ownership_own  home_ownership_rent  job_category_highly skilled  \\\n",
       "0                   1                    0                            0   \n",
       "1                   1                    0                            0   \n",
       "2                   1                    0                            0   \n",
       "3                   0                    0                            0   \n",
       "4                   0                    0                            0   \n",
       "\n",
       "   job_category_skilled  job_category_unemployed-unskilled-non-resident  \\\n",
       "0                     1                                               0   \n",
       "1                     1                                               0   \n",
       "2                     0                                               0   \n",
       "3                     1                                               0   \n",
       "4                     1                                               0   \n",
       "\n",
       "   job_category_unskilled-resident  telephone_none  telephone_yes  \\\n",
       "0                                0               0              1   \n",
       "1                                0               1              0   \n",
       "2                                1               1              0   \n",
       "3                                0               1              0   \n",
       "4                                0               1              0   \n",
       "\n",
       "   foreign_worker_no  foreign_worker_yes  \n",
       "0                  0                   1  \n",
       "1                  0                   1  \n",
       "2                  0                   1  \n",
       "3                  0                   1  \n",
       "4                  0                   1  \n",
       "\n",
       "[5 rows x 61 columns]"
      ]
     },
     "execution_count": 35,
     "metadata": {},
     "output_type": "execute_result"
    }
   ],
   "source": [
    "credit_new.head()"
   ]
  },
  {
   "cell_type": "markdown",
   "metadata": {},
   "source": [
    "### NORMALIZED OUR DATA"
   ]
  },
  {
   "cell_type": "code",
   "execution_count": 38,
   "metadata": {},
   "outputs": [],
   "source": [
    "from sklearn.preprocessing import MinMaxScaler, StandardScaler, RobustScaler"
   ]
  },
  {
   "cell_type": "code",
   "execution_count": 47,
   "metadata": {},
   "outputs": [
    {
     "name": "stderr",
     "output_type": "stream",
     "text": [
      "C:\\ProgramData\\Anaconda3\\lib\\site-packages\\sklearn\\preprocessing\\data.py:625: DataConversionWarning: Data with input dtype uint8, int64 were all converted to float64 by StandardScaler.\n",
      "  return self.partial_fit(X, y)\n",
      "C:\\ProgramData\\Anaconda3\\lib\\site-packages\\ipykernel_launcher.py:3: DataConversionWarning: Data with input dtype uint8, int64 were all converted to float64 by StandardScaler.\n",
      "  This is separate from the ipykernel package so we can avoid doing imports until\n"
     ]
    }
   ],
   "source": [
    "scaler = StandardScaler()\n",
    "scaler.fit(credit_new)\n",
    "credit_new2 = scaler.transform(credit_new)"
   ]
  },
  {
   "cell_type": "markdown",
   "metadata": {},
   "source": [
    "### SPLIT DATA INTO TRAINING AND TEST SETS"
   ]
  },
  {
   "cell_type": "code",
   "execution_count": 50,
   "metadata": {},
   "outputs": [],
   "source": [
    "from sklearn.model_selection import train_test_split"
   ]
  },
  {
   "cell_type": "code",
   "execution_count": 51,
   "metadata": {},
   "outputs": [],
   "source": [
    "X_train, X_test, y_train, y_test = train_test_split(credit_new2, y_target, test_size = 0.2)"
   ]
  },
  {
   "cell_type": "code",
   "execution_count": 52,
   "metadata": {},
   "outputs": [
    {
     "name": "stdout",
     "output_type": "stream",
     "text": [
      "shape of training data is (800, 61)\n",
      "shape of training target is (800,)\n",
      "shape of test data is (200, 61)\n",
      "shape of test target is (200,)\n"
     ]
    }
   ],
   "source": [
    "print(\"shape of training data is\", X_train.shape)\n",
    "print(\"shape of training target is\", y_train.shape)\n",
    "print(\"shape of test data is\", X_test.shape)\n",
    "print(\"shape of test target is\", y_test.shape)"
   ]
  },
  {
   "cell_type": "markdown",
   "metadata": {},
   "source": [
    "## MODELLING\n",
    "\n",
    "### Using logistic regression model\n"
   ]
  },
  {
   "cell_type": "code",
   "execution_count": 53,
   "metadata": {},
   "outputs": [],
   "source": [
    "from sklearn.linear_model import LogisticRegression"
   ]
  },
  {
   "cell_type": "code",
   "execution_count": 69,
   "metadata": {},
   "outputs": [
    {
     "name": "stderr",
     "output_type": "stream",
     "text": [
      "C:\\ProgramData\\Anaconda3\\lib\\site-packages\\sklearn\\linear_model\\logistic.py:433: FutureWarning: Default solver will be changed to 'lbfgs' in 0.22. Specify a solver to silence this warning.\n",
      "  FutureWarning)\n"
     ]
    },
    {
     "data": {
      "text/plain": [
       "LogisticRegression(C=1.0, class_weight=None, dual=False, fit_intercept=True,\n",
       "          intercept_scaling=1, max_iter=150, multi_class='warn',\n",
       "          n_jobs=None, penalty='l2', random_state=None, solver='warn',\n",
       "          tol=0.0001, verbose=0, warm_start=False)"
      ]
     },
     "execution_count": 69,
     "metadata": {},
     "output_type": "execute_result"
    }
   ],
   "source": [
    "log_reg_model = LogisticRegression()\n",
    "log_reg_model.fit(X_train, y_train)"
   ]
  },
  {
   "cell_type": "code",
   "execution_count": 70,
   "metadata": {},
   "outputs": [],
   "source": [
    "lr_pred = log_reg_model.predict(X_test)"
   ]
  },
  {
   "cell_type": "code",
   "execution_count": 71,
   "metadata": {},
   "outputs": [],
   "source": [
    "from sklearn.metrics import accuracy_score, confusion_matrix"
   ]
  },
  {
   "cell_type": "code",
   "execution_count": 72,
   "metadata": {},
   "outputs": [
    {
     "name": "stdout",
     "output_type": "stream",
     "text": [
      "Accuracy is  76.0\n"
     ]
    }
   ],
   "source": [
    "acc = accuracy_score(y_test, lr_pred)\n",
    "print(\"Accuracy is \", round(acc * 100))"
   ]
  },
  {
   "cell_type": "code",
   "execution_count": 66,
   "metadata": {},
   "outputs": [
    {
     "data": {
      "text/plain": [
       "array([[125,  21],\n",
       "       [ 26,  28]], dtype=int64)"
      ]
     },
     "execution_count": 66,
     "metadata": {},
     "output_type": "execute_result"
    }
   ],
   "source": [
    "conf = confusion_matrix(y_test, lr_pred)"
   ]
  },
  {
   "cell_type": "code",
   "execution_count": 65,
   "metadata": {},
   "outputs": [
    {
     "name": "stdout",
     "output_type": "stream",
     "text": [
      "                 Score positive    Score negative\n",
      "Actual positive       125                21\n",
      "Actual negative        26                28\n",
      "\n"
     ]
    }
   ],
   "source": [
    "print('                 Score positive    Score negative')\n",
    "print('Actual positive    %6d' % conf[0,0] + '             %5d' % conf[0,1])\n",
    "print('Actual negative    %6d' % conf[1,0] + '             %5d' % conf[1,1])\n",
    "print('')"
   ]
  },
  {
   "cell_type": "markdown",
   "metadata": {},
   "source": [
    "### USING RANDOMFOREST CLASSIFIER"
   ]
  },
  {
   "cell_type": "code",
   "execution_count": 67,
   "metadata": {},
   "outputs": [],
   "source": [
    "from sklearn.ensemble import RandomForestClassifier"
   ]
  },
  {
   "cell_type": "code",
   "execution_count": 143,
   "metadata": {},
   "outputs": [
    {
     "data": {
      "text/plain": [
       "RandomForestClassifier(bootstrap=True, class_weight=None, criterion='gini',\n",
       "            max_depth=21, max_features='auto', max_leaf_nodes=None,\n",
       "            min_impurity_decrease=0.0, min_impurity_split=None,\n",
       "            min_samples_leaf=1, min_samples_split=2,\n",
       "            min_weight_fraction_leaf=0.0, n_estimators=200, n_jobs=None,\n",
       "            oob_score=False, random_state=None, verbose=0,\n",
       "            warm_start=False)"
      ]
     },
     "execution_count": 143,
     "metadata": {},
     "output_type": "execute_result"
    }
   ],
   "source": [
    "rf_model = RandomForestClassifier(n_estimators=200, max_depth=21)\n",
    "rf_model.fit(X_train, y_train)"
   ]
  },
  {
   "cell_type": "code",
   "execution_count": 144,
   "metadata": {},
   "outputs": [],
   "source": [
    "rf_pred = rf_model.predict(X_test)"
   ]
  },
  {
   "cell_type": "code",
   "execution_count": 145,
   "metadata": {},
   "outputs": [
    {
     "name": "stdout",
     "output_type": "stream",
     "text": [
      "Accuracy is  79.0\n"
     ]
    }
   ],
   "source": [
    "rf_acc = accuracy_score(y_test, rf_pred)\n",
    "print(\"Accuracy is \", round(rf_acc * 100))"
   ]
  },
  {
   "cell_type": "code",
   "execution_count": 131,
   "metadata": {},
   "outputs": [
    {
     "data": {
      "text/plain": [
       "array([[139,   7],\n",
       "       [ 35,  19]], dtype=int64)"
      ]
     },
     "execution_count": 131,
     "metadata": {},
     "output_type": "execute_result"
    }
   ],
   "source": [
    "rf_conf = confusion_matrix(y_test, rf_pred)\n",
    "rf_conf"
   ]
  },
  {
   "cell_type": "markdown",
   "metadata": {},
   "source": [
    "### USING BOOSTING"
   ]
  },
  {
   "cell_type": "code",
   "execution_count": 132,
   "metadata": {},
   "outputs": [],
   "source": [
    "from sklearn.ensemble import GradientBoostingClassifier, AdaBoostClassifier"
   ]
  },
  {
   "cell_type": "code",
   "execution_count": 141,
   "metadata": {},
   "outputs": [],
   "source": [
    "gb_model = GradientBoostingClassifier(n_estimators=100)\n",
    "gb_model.fit(X_train, y_train)\n",
    "gb_pred = gb_model.predict(X_test)"
   ]
  },
  {
   "cell_type": "code",
   "execution_count": 142,
   "metadata": {},
   "outputs": [
    {
     "name": "stdout",
     "output_type": "stream",
     "text": [
      "Accuracy is  80.0\n"
     ]
    }
   ],
   "source": [
    "gb_acc = accuracy_score(y_test, gb_pred)\n",
    "print(\"Accuracy is \", round(gb_acc * 100))"
   ]
  },
  {
   "cell_type": "code",
   "execution_count": 154,
   "metadata": {},
   "outputs": [],
   "source": [
    "ada_model = AdaBoostClassifier(n_estimators=50)\n",
    "ada_model.fit(X_train, y_train)\n",
    "ada_pred = ada_model.predict(X_test)"
   ]
  },
  {
   "cell_type": "code",
   "execution_count": 155,
   "metadata": {},
   "outputs": [
    {
     "name": "stdout",
     "output_type": "stream",
     "text": [
      "Accuracy is  77.0\n"
     ]
    }
   ],
   "source": [
    "ada_acc = accuracy_score(y_test, ada_pred)\n",
    "print(\"Accuracy is \", round(ada_acc * 100))"
   ]
  },
  {
   "cell_type": "markdown",
   "metadata": {},
   "source": [
    "### AVERAGING TWO MODELS"
   ]
  },
  {
   "cell_type": "code",
   "execution_count": 162,
   "metadata": {},
   "outputs": [
    {
     "name": "stdout",
     "output_type": "stream",
     "text": [
      "Accuracy is  79.0\n"
     ]
    }
   ],
   "source": [
    "avg = np.int16((rf_pred + gb_pred + ada_pred) / 3)\n",
    "avg_acc = accuracy_score(y_test, avg)\n",
    "print(\"Accuracy is \", round(avg_acc * 100))"
   ]
  },
  {
   "cell_type": "code",
   "execution_count": null,
   "metadata": {},
   "outputs": [],
   "source": []
  }
 ],
 "metadata": {
  "kernelspec": {
   "display_name": "Python 3",
   "language": "python",
   "name": "python3"
  },
  "language_info": {
   "codemirror_mode": {
    "name": "ipython",
    "version": 3
   },
   "file_extension": ".py",
   "mimetype": "text/x-python",
   "name": "python",
   "nbconvert_exporter": "python",
   "pygments_lexer": "ipython3",
   "version": "3.7.1"
  }
 },
 "nbformat": 4,
 "nbformat_minor": 2
}
